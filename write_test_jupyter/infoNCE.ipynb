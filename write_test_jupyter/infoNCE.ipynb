{
 "cells": [
  {
   "cell_type": "code",
   "execution_count": 1,
   "metadata": {},
   "outputs": [],
   "source": [
    "import torch\n",
    "from torch import nn\n"
   ]
  },
  {
   "cell_type": "code",
   "execution_count": 10,
   "metadata": {},
   "outputs": [],
   "source": [
    "class InfoNCELoss(nn.Module):\n",
    "    def __init__(self, t=1):\n",
    "        super().__init__()\n",
    "        self.t = t\n",
    "        self.loss = nn.CrossEntropyLoss()\n",
    "        \n",
    "    def forward(self, input, q_length, db_length):\n",
    "        # input1 is the anchor, input2 contains pos and neg\n",
    "        input1 = input[:, :q_length, :]\n",
    "        input2 = input[:, q_length:, :]\n",
    "        input1_normlized = input1 / torch.norm(input1, dim=2, keepdim=True)\n",
    "        input2_normlized = input2 / torch.norm(input2, dim=2, keepdim=True)\n",
    "\n",
    "        # compute thr cos similarity between anchor and pos/neg\n",
    "        logits = torch.matmul(input1_normlized, input2_normlized.transpose(1, 2)).squeeze(1)\n",
    "        \n",
    "        labels = torch.zeros(logits.shape[0], dtype=torch.long)\n",
    "        loss = self.loss(logits / self.t, labels)\n",
    "        \n",
    "        return loss\n",
    "        "
   ]
  },
  {
   "cell_type": "code",
   "execution_count": 13,
   "metadata": {},
   "outputs": [],
   "source": [
    "input = torch.randn(size=(10, 7, 100), dtype=torch.float)\n",
    "q_len, db_len = 1, 5\n",
    "loss = InfoNCELoss()\n",
    "l = loss(input, q_len, db_len)"
   ]
  }
 ],
 "metadata": {
  "kernelspec": {
   "display_name": "python38",
   "language": "python",
   "name": "python3"
  },
  "language_info": {
   "codemirror_mode": {
    "name": "ipython",
    "version": 3
   },
   "file_extension": ".py",
   "mimetype": "text/x-python",
   "name": "python",
   "nbconvert_exporter": "python",
   "pygments_lexer": "ipython3",
   "version": "3.8.17"
  },
  "orig_nbformat": 4
 },
 "nbformat": 4,
 "nbformat_minor": 2
}
